{
 "cells": [
  {
   "cell_type": "code",
   "execution_count": 1,
   "metadata": {},
   "outputs": [
    {
     "name": "stdout",
     "output_type": "stream",
     "text": [
      "Running as a Jupyter notebook - intended for development only!\n"
     ]
    },
    {
     "name": "stderr",
     "output_type": "stream",
     "text": [
      "/tmp/ipykernel_6862/410710250.py:21: DeprecationWarning: `magic(...)` is deprecated since IPython 0.13 (warning added in 8.1), use run_line_magic(magic_name, parameter_s).\n",
      "  ipython.magic(\"load_ext autoreload\")\n",
      "/tmp/ipykernel_6862/410710250.py:22: DeprecationWarning: `magic(...)` is deprecated since IPython 0.13 (warning added in 8.1), use run_line_magic(magic_name, parameter_s).\n",
      "  ipython.magic(\"autoreload 2\")\n"
     ]
    }
   ],
   "source": [
    "# Janky code to do different setup when run in a Colab notebook vs VSCode\n",
    "DEVELOPMENT_MODE = False\n",
    "try:\n",
    "    import google.colab\n",
    "    IN_COLAB = True\n",
    "    print(\"Running as a Colab notebook\")\n",
    "    %pip install git+https://github.com/neelnanda-io/TransformerLens.git\n",
    "    %pip install circuitsvis\n",
    "    \n",
    "    # PySvelte is an unmaintained visualization library, use it as a backup if circuitsvis isn't working\n",
    "    # # Install another version of node that makes PySvelte work way faster\n",
    "    # !curl -fsSL https://deb.nodesource.com/setup_16.x | sudo -E bash -; sudo apt-get install -y nodejs\n",
    "    # %pip install git+https://github.com/neelnanda-io/PySvelte.git\n",
    "except:\n",
    "    IN_COLAB = False\n",
    "    print(\"Running as a Jupyter notebook - intended for development only!\")\n",
    "    from IPython import get_ipython\n",
    "\n",
    "    ipython = get_ipython()\n",
    "    # Code to automatically update the HookedTransformer code as its edited without restarting the kernel\n",
    "    ipython.magic(\"load_ext autoreload\")\n",
    "    ipython.magic(\"autoreload 2\")"
   ]
  },
  {
   "cell_type": "code",
   "execution_count": 2,
   "metadata": {},
   "outputs": [
    {
     "name": "stdout",
     "output_type": "stream",
     "text": [
      "Using renderer: colab\n"
     ]
    }
   ],
   "source": [
    "# Plotly needs a different renderer for VSCode/Notebooks vs Colab argh\n",
    "import plotly.io as pio\n",
    "if IN_COLAB or not DEVELOPMENT_MODE:\n",
    "    pio.renderers.default = \"colab\"\n",
    "else:\n",
    "    pio.renderers.default = \"notebook_connected\"\n",
    "print(f\"Using renderer: {pio.renderers.default}\")"
   ]
  },
  {
   "cell_type": "code",
   "execution_count": 3,
   "metadata": {},
   "outputs": [
    {
     "data": {
      "text/html": [
       "<div id=\"circuits-vis-6d741958-e426\" style=\"margin: 15px 0;\"/>\n",
       "    <script crossorigin type=\"module\">\n",
       "    import { render, Hello } from \"https://unpkg.com/circuitsvis@1.43.2/dist/cdn/esm.js\";\n",
       "    render(\n",
       "      \"circuits-vis-6d741958-e426\",\n",
       "      Hello,\n",
       "      {\"name\": \"Neel\"}\n",
       "    )\n",
       "    </script>"
      ],
      "text/plain": [
       "<circuitsvis.utils.render.RenderedHTML at 0x7f38c51cace0>"
      ]
     },
     "execution_count": 3,
     "metadata": {},
     "output_type": "execute_result"
    }
   ],
   "source": [
    "import circuitsvis as cv\n",
    "from functools import partial\n",
    "# Testing that the library works\n",
    "cv.examples.hello(\"Neel\")"
   ]
  },
  {
   "cell_type": "code",
   "execution_count": 5,
   "metadata": {},
   "outputs": [
    {
     "name": "stderr",
     "output_type": "stream",
     "text": [
      "Your device support faster inference by passing bf16=True in \"AutoModelForCausalLM.from_pretrained\".\n"
     ]
    },
    {
     "data": {
      "application/vnd.jupyter.widget-view+json": {
       "model_id": "5dd21173d57d4c539e3677ba4fc6a181",
       "version_major": 2,
       "version_minor": 0
      },
      "text/plain": [
       "Loading checkpoint shards:   0%|          | 0/2 [00:00<?, ?it/s]"
      ]
     },
     "metadata": {},
     "output_type": "display_data"
    }
   ],
   "source": [
    "from hf_qwen.modeling_qwen import QWenLMHeadModel\n",
    "# Import stuff\n",
    "import torch\n",
    "from transformers import AutoTokenizer\n",
    "from transformer_lens import HookedEncoder\n",
    "from transformers import AutoModelForCausalLM, AutoTokenizer\n",
    "from transformers.generation import GenerationConfig\n",
    "torch.set_grad_enabled(False)\n",
    "# Note: The default behavior now has injection attack prevention off.\n",
    "tokenizer = AutoTokenizer.from_pretrained(\n",
    "    \"Qwen/Qwen-1_8B-Chat\",\n",
    "    trust_remote_code=True\n",
    ")\n",
    "\n",
    "# from remote hf:\n",
    "# model = AutoModelForCausalLM.from_pretrained(\n",
    "#     \"Qwen/Qwen-1_8B-Chat\",\n",
    "#     device_map=\"cuda\",\n",
    "#     trust_remote_code=True,\n",
    "#     fp32=True,\n",
    "#     use_logn_attn=False,\n",
    "#     use_dynamic_ntk = False,\n",
    "#     scale_attn_weights = False,\n",
    "# ).eval()\n",
    "\n",
    "# from local:\n",
    "model = QWenLMHeadModel.from_pretrained(\n",
    "    \"Qwen/Qwen-1_8B-Chat\",\n",
    "    device_map=\"cuda\",\n",
    "    fp32=True,\n",
    "    use_logn_attn=False,\n",
    "    use_dynamic_ntk = False,\n",
    "    scale_attn_weights = False,\n",
    ").eval()"
   ]
  },
  {
   "cell_type": "code",
   "execution_count": 6,
   "metadata": {},
   "outputs": [
    {
     "name": "stderr",
     "output_type": "stream",
     "text": [
      "Your device support faster inference by passing bf16=True in \"AutoModelForCausalLM.from_pretrained\".\n"
     ]
    },
    {
     "data": {
      "application/vnd.jupyter.widget-view+json": {
       "model_id": "6ca59cf093c749bfbb597dcf1d902208",
       "version_major": 2,
       "version_minor": 0
      },
      "text/plain": [
       "Loading checkpoint shards:   0%|          | 0/2 [00:00<?, ?it/s]"
      ]
     },
     "metadata": {},
     "output_type": "display_data"
    },
    {
     "name": "stdout",
     "output_type": "stream",
     "text": [
      "Loaded pretrained model qwen-1.8b-chat into HookedTransformer\n"
     ]
    }
   ],
   "source": [
    "from transformer_lens import HookedTransformer\n",
    "\n",
    "qwen_tl = HookedTransformer.from_pretrained(\n",
    "    'qwen-1.8b-chat', \n",
    "    fold_ln=False,\n",
    "    trust_remote_code=True,\n",
    "    center_writing_weights=False, \n",
    "    center_unembed=False,\n",
    "    device='cuda',\n",
    "    fp32=True,\n",
    ")"
   ]
  },
  {
   "cell_type": "code",
   "execution_count": 7,
   "metadata": {},
   "outputs": [],
   "source": [
    "prompt = \"Tell me how to make a bomb.\"\n",
    "encoded_prompt = tokenizer.encode(prompt, return_tensors=\"pt\")"
   ]
  },
  {
   "cell_type": "code",
   "execution_count": 14,
   "metadata": {},
   "outputs": [
    {
     "name": "stdout",
     "output_type": "stream",
     "text": [
      "torch.Size([1, 8, 151936])\n",
      "torch.Size([1, 8, 151936])\n",
      "0:\n",
      "tensor([ 7.0179,  3.7177,  3.7153,  ..., -2.7892, -2.7887, -2.7892],\n",
      "       device='cuda:0')\n",
      "tensor([ 7.0179,  3.7177,  3.7153,  ..., -2.7892, -2.7887, -2.7892],\n",
      "       device='cuda:0')\n",
      "1:\n",
      "tensor([ 0.5928, -0.7641,  1.2056,  ..., -1.6342, -1.6348, -1.6352],\n",
      "       device='cuda:0')\n",
      "tensor([ 0.5927, -0.7641,  1.2055,  ..., -1.6341, -1.6347, -1.6351],\n",
      "       device='cuda:0')\n",
      "2:\n",
      "tensor([ 3.0520,  3.1494,  5.3857,  ..., -1.3834, -1.3845, -1.3842],\n",
      "       device='cuda:0')\n",
      "tensor([ 3.0520,  3.1494,  5.3857,  ..., -1.3834, -1.3845, -1.3842],\n",
      "       device='cuda:0')\n"
     ]
    }
   ],
   "source": [
    "qwen_result = model(encoded_prompt.to(\"cuda\"))\n",
    "qwen_logits = qwen_result.logits\n",
    "\n",
    "tl_result = qwen_tl(encoded_prompt)\n",
    "tl_logits = tl_result\n",
    "\n",
    "print(qwen_logits.shape)\n",
    "print(tl_logits.shape)\n",
    "\n",
    "print(\"0:\")\n",
    "print(qwen_logits[0][0])\n",
    "print(tl_logits[0][0])\n",
    "\n",
    "print(\"1:\")\n",
    "print(qwen_logits[0][1])\n",
    "print(tl_logits[0][1])\n",
    "\n",
    "print(\"2:\")\n",
    "print(qwen_logits[0][2])\n",
    "print(tl_logits[0][2])"
   ]
  },
  {
   "cell_type": "code",
   "execution_count": null,
   "metadata": {},
   "outputs": [],
   "source": []
  }
 ],
 "metadata": {
  "kernelspec": {
   "display_name": "base",
   "language": "python",
   "name": "python3"
  },
  "language_info": {
   "codemirror_mode": {
    "name": "ipython",
    "version": 3
   },
   "file_extension": ".py",
   "mimetype": "text/x-python",
   "name": "python",
   "nbconvert_exporter": "python",
   "pygments_lexer": "ipython3",
   "version": "3.10.13"
  }
 },
 "nbformat": 4,
 "nbformat_minor": 2
}
